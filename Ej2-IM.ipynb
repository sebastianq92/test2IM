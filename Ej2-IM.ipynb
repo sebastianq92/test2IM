{
 "cells": [
  {
   "cell_type": "markdown",
   "metadata": {},
   "source": [
    "# The lapidarist* problem\n",
    "\n",
    "This problem is for you to show your modeling abilities. Bonus points for testing your model’s error using a test set.\n",
    "\n",
    "The limousine comes to a full stop. As the driver gets out to open the door you take a deep breath and get inside. You enter 10 Downing Street and are conducted to the usual meeting room. Inside you find the Prime Minister, accompanied by a fat, tall man and a short, deform one with long ears and an even longer nose.\n",
    "\n",
    "Prime Minister: “Ah! You’re here! Great! Let me introduce my guests. This is Fidelious, Minister of Magic, and Krenk, the owner of the Gringotts Wizarding Bank.”\n",
    "\n",
    "You: “Uhhh, ma’am, is this a joke?”\n",
    "\n",
    "Fidelious: “Not at all, but don’t worry, don’t sweat the details, tomorrow you won’t remember anything. Security measures, you see.”\n",
    "\n",
    "Krenk: “Let’s move things along. I don’t like to be exposed to Muggles.”\n",
    "\n",
    "You: “What...” The Prime Minister interrupts you.\n",
    "\n",
    "Prime Minister: “Our friends here seem to have run into a bit of an issue, see, some diamonds seem to have been stolen. Problem is, the only person... goblin, sorry“ he says apologetically to Krenk ” to have seen them is our distinguished guest, Krenk.”\n",
    "\n",
    "Fidelious: “And while the Ministry completely believes Krenk as to the diamonds’ worth, we need another person to validate his claim. Safety policies, you see.”\n",
    "\n",
    "Prime Minister: “So, since you’re the best data scientist in our country, I thought you could help. Mr. Krenk will provide you with the characteristics of the missing diamonds and we need you to create a model to value them.”\n",
    "\n",
    "You: “But I’m not a lapidarist.”\n",
    "\n",
    "Prime Minister: “Which is why we’re providing you with a huge dataset, containing characteristics and valuations for tens of thousands of diamonds. Now, get working.“\n",
    "\n",
    "“Huge? Tens of thousands?“ You think. “And I thought I was the clueless one here.”"
   ]
  },
  {
   "cell_type": "code",
   "execution_count": 19,
   "metadata": {
    "collapsed": true
   },
   "outputs": [],
   "source": [
    "import pandas as pd\n",
    "import matplotlib.pyplot as plt\n",
    "from sklearn.ensemble import RandomForestRegressor\n",
    "from sklearn.model_selection import train_test_split\n",
    "from sklearn.metrics import mean_absolute_error, r2_score"
   ]
  },
  {
   "cell_type": "code",
   "execution_count": 2,
   "metadata": {
    "collapsed": true
   },
   "outputs": [],
   "source": [
    "diamonds = pd.read_csv(\"/Users/sebastianquintanilla/Downloads/diamonds/diamonds_data.csv\")"
   ]
  },
  {
   "cell_type": "code",
   "execution_count": 3,
   "metadata": {},
   "outputs": [
    {
     "name": "stdout",
     "output_type": "stream",
     "text": [
      "<class 'pandas.core.frame.DataFrame'>\n",
      "RangeIndex: 53930 entries, 0 to 53929\n",
      "Data columns (total 10 columns):\n",
      "carat      53930 non-null float64\n",
      "cut        53930 non-null object\n",
      "color      53930 non-null object\n",
      "clarity    53930 non-null object\n",
      "depth      53930 non-null float64\n",
      "table      53930 non-null float64\n",
      "price      53930 non-null int64\n",
      "x          53930 non-null float64\n",
      "y          53930 non-null float64\n",
      "z          53930 non-null float64\n",
      "dtypes: float64(6), int64(1), object(3)\n",
      "memory usage: 4.1+ MB\n"
     ]
    }
   ],
   "source": [
    "diamonds.info()"
   ]
  },
  {
   "cell_type": "markdown",
   "metadata": {},
   "source": [
    "## 1.Preparing the data\n",
    "\n",
    "We have information on 53930 diamonds, and the info is on carat, cut, color, clarity, depth, table, dimensions (x, y and z) and price. We have no missing values in any of the columns.\n",
    "\n",
    "Three of these columns have categorical variables, color, clarity and cut. We check what values they can take."
   ]
  },
  {
   "cell_type": "code",
   "execution_count": 4,
   "metadata": {},
   "outputs": [
    {
     "data": {
      "text/plain": [
       "array(['E', 'I', 'J', 'H', 'F', 'G', 'D'], dtype=object)"
      ]
     },
     "execution_count": 4,
     "metadata": {},
     "output_type": "execute_result"
    }
   ],
   "source": [
    "color = diamonds['color'].unique()\n",
    "color"
   ]
  },
  {
   "cell_type": "code",
   "execution_count": 5,
   "metadata": {},
   "outputs": [
    {
     "data": {
      "text/plain": [
       "array(['SI2', 'SI1', 'VS1', 'VS2', 'VVS2', 'VVS1', 'I1', 'IF'], dtype=object)"
      ]
     },
     "execution_count": 5,
     "metadata": {},
     "output_type": "execute_result"
    }
   ],
   "source": [
    "clarity = diamonds['clarity'].unique()\n",
    "clarity"
   ]
  },
  {
   "cell_type": "code",
   "execution_count": 6,
   "metadata": {},
   "outputs": [
    {
     "data": {
      "text/plain": [
       "array(['Ideal', 'Premium', 'Good', 'Very Good', 'Fair'], dtype=object)"
      ]
     },
     "execution_count": 6,
     "metadata": {},
     "output_type": "execute_result"
    }
   ],
   "source": [
    "cut = diamonds['cut'].unique()\n",
    "cut"
   ]
  },
  {
   "cell_type": "markdown",
   "metadata": {},
   "source": [
    "According to the dictionary, these 3 categorical variables can be ordered, so we do it with the following function."
   ]
  },
  {
   "cell_type": "code",
   "execution_count": null,
   "metadata": {
    "collapsed": true
   },
   "outputs": [],
   "source": [
    "def number_cat(row):\n",
    "    ''' This function makes three new rows, for the three categorical variables\n",
    "    '''\n",
    "    #first we order the colors\n",
    "    if row['color'] == 'D':\n",
    "        row['n_color'] = 7\n",
    "    elif row['color'] == 'E':\n",
    "        row['n_color'] = 6\n",
    "    elif row['color'] == 'F':\n",
    "        row['n_color'] = 5\n",
    "    elif row['color'] == 'G':\n",
    "        row['n_color'] = 4\n",
    "    elif row['color'] == 'H':\n",
    "        row['n_color'] = 3\n",
    "    elif row['color'] == 'I':\n",
    "        row['n_color'] = 2\n",
    "    else:\n",
    "        row['n_color'] = 1\n",
    "        \n",
    "    #then we order the clarity\n",
    "    if row['clarity'] == 'IF':\n",
    "        row['n_clarity'] = 8\n",
    "    elif row['clarity'] == 'VVS1':\n",
    "        row['n_clarity'] = 7\n",
    "    elif row['clarity'] == 'VVS2':\n",
    "        row['n_clarity'] = 6\n",
    "    elif row['clarity'] == 'VS1':\n",
    "        row['n_clarity'] = 5\n",
    "    elif row['clarity'] == 'VS2':\n",
    "        row['n_clarity'] = 4\n",
    "    elif row['clarity'] == 'SI1':\n",
    "        row['n_clarity'] = 3\n",
    "    elif row['clarity'] == 'SI2':\n",
    "        row['n_clarity'] = 2\n",
    "    else:\n",
    "        row['n_clarity'] = 1\n",
    "        \n",
    "    #lastly we order the cut\n",
    "    if row['cut'] == 'Ideal':\n",
    "        row['n_cut'] = 5\n",
    "    elif row['cut'] == 'Premium':\n",
    "        row['n_cut'] = 4\n",
    "    elif row['cut'] == 'Very Good':\n",
    "        row['n_cut'] = 3\n",
    "    elif row['cut'] == 'Good':\n",
    "        row['n_cut'] = 2\n",
    "    else:\n",
    "        row['n_cut'] = 1\n",
    "        \n",
    "    return row\n",
    "\n",
    "diamonds = diamonds.apply(number_cat, axis=1)"
   ]
  },
  {
   "cell_type": "code",
   "execution_count": 8,
   "metadata": {},
   "outputs": [
    {
     "data": {
      "text/html": [
       "<div>\n",
       "<style>\n",
       "    .dataframe thead tr:only-child th {\n",
       "        text-align: right;\n",
       "    }\n",
       "\n",
       "    .dataframe thead th {\n",
       "        text-align: left;\n",
       "    }\n",
       "\n",
       "    .dataframe tbody tr th {\n",
       "        vertical-align: top;\n",
       "    }\n",
       "</style>\n",
       "<table border=\"1\" class=\"dataframe\">\n",
       "  <thead>\n",
       "    <tr style=\"text-align: right;\">\n",
       "      <th></th>\n",
       "      <th>carat</th>\n",
       "      <th>cut</th>\n",
       "      <th>color</th>\n",
       "      <th>clarity</th>\n",
       "      <th>depth</th>\n",
       "      <th>table</th>\n",
       "      <th>price</th>\n",
       "      <th>x</th>\n",
       "      <th>y</th>\n",
       "      <th>z</th>\n",
       "      <th>n_color</th>\n",
       "      <th>n_clarity</th>\n",
       "      <th>n_cut</th>\n",
       "    </tr>\n",
       "  </thead>\n",
       "  <tbody>\n",
       "    <tr>\n",
       "      <th>0</th>\n",
       "      <td>0.23</td>\n",
       "      <td>Ideal</td>\n",
       "      <td>E</td>\n",
       "      <td>SI2</td>\n",
       "      <td>61.5</td>\n",
       "      <td>55.0</td>\n",
       "      <td>326</td>\n",
       "      <td>3.95</td>\n",
       "      <td>3.98</td>\n",
       "      <td>2.43</td>\n",
       "      <td>6</td>\n",
       "      <td>2</td>\n",
       "      <td>5</td>\n",
       "    </tr>\n",
       "    <tr>\n",
       "      <th>1</th>\n",
       "      <td>0.21</td>\n",
       "      <td>Premium</td>\n",
       "      <td>E</td>\n",
       "      <td>SI1</td>\n",
       "      <td>59.8</td>\n",
       "      <td>61.0</td>\n",
       "      <td>326</td>\n",
       "      <td>3.89</td>\n",
       "      <td>3.84</td>\n",
       "      <td>2.31</td>\n",
       "      <td>6</td>\n",
       "      <td>3</td>\n",
       "      <td>4</td>\n",
       "    </tr>\n",
       "    <tr>\n",
       "      <th>2</th>\n",
       "      <td>0.23</td>\n",
       "      <td>Good</td>\n",
       "      <td>E</td>\n",
       "      <td>VS1</td>\n",
       "      <td>56.9</td>\n",
       "      <td>65.0</td>\n",
       "      <td>327</td>\n",
       "      <td>4.05</td>\n",
       "      <td>4.07</td>\n",
       "      <td>2.31</td>\n",
       "      <td>6</td>\n",
       "      <td>5</td>\n",
       "      <td>2</td>\n",
       "    </tr>\n",
       "    <tr>\n",
       "      <th>3</th>\n",
       "      <td>0.29</td>\n",
       "      <td>Premium</td>\n",
       "      <td>I</td>\n",
       "      <td>VS2</td>\n",
       "      <td>62.4</td>\n",
       "      <td>58.0</td>\n",
       "      <td>334</td>\n",
       "      <td>4.20</td>\n",
       "      <td>4.23</td>\n",
       "      <td>2.63</td>\n",
       "      <td>2</td>\n",
       "      <td>4</td>\n",
       "      <td>4</td>\n",
       "    </tr>\n",
       "    <tr>\n",
       "      <th>4</th>\n",
       "      <td>0.31</td>\n",
       "      <td>Good</td>\n",
       "      <td>J</td>\n",
       "      <td>SI2</td>\n",
       "      <td>63.3</td>\n",
       "      <td>58.0</td>\n",
       "      <td>335</td>\n",
       "      <td>4.34</td>\n",
       "      <td>4.35</td>\n",
       "      <td>2.75</td>\n",
       "      <td>1</td>\n",
       "      <td>2</td>\n",
       "      <td>2</td>\n",
       "    </tr>\n",
       "  </tbody>\n",
       "</table>\n",
       "</div>"
      ],
      "text/plain": [
       "   carat      cut color clarity  depth  table  price     x     y     z  \\\n",
       "0   0.23    Ideal     E     SI2   61.5   55.0    326  3.95  3.98  2.43   \n",
       "1   0.21  Premium     E     SI1   59.8   61.0    326  3.89  3.84  2.31   \n",
       "2   0.23     Good     E     VS1   56.9   65.0    327  4.05  4.07  2.31   \n",
       "3   0.29  Premium     I     VS2   62.4   58.0    334  4.20  4.23  2.63   \n",
       "4   0.31     Good     J     SI2   63.3   58.0    335  4.34  4.35  2.75   \n",
       "\n",
       "   n_color  n_clarity  n_cut  \n",
       "0        6          2      5  \n",
       "1        6          3      4  \n",
       "2        6          5      2  \n",
       "3        2          4      4  \n",
       "4        1          2      2  "
      ]
     },
     "execution_count": 8,
     "metadata": {},
     "output_type": "execute_result"
    }
   ],
   "source": [
    "diamonds.head()"
   ]
  },
  {
   "cell_type": "markdown",
   "metadata": {},
   "source": [
    "## 2. Random forest regressor\n",
    "\n",
    "We will now divide our data in the dependent variable (price) and all the others, also droping the categorical variables that aren't numerical."
   ]
  },
  {
   "cell_type": "code",
   "execution_count": 30,
   "metadata": {
    "collapsed": true
   },
   "outputs": [],
   "source": [
    "X = diamonds.drop(['cut','color','clarity','price'],axis=1)\n",
    "y = diamonds.price"
   ]
  },
  {
   "cell_type": "markdown",
   "metadata": {},
   "source": [
    "To test our predictions we will separate our data in two, training and validation, using a function imported from sklearn. "
   ]
  },
  {
   "cell_type": "code",
   "execution_count": 31,
   "metadata": {
    "collapsed": true
   },
   "outputs": [],
   "source": [
    "X_train, X_val, y_train, y_val = train_test_split(X, y, random_state = 8)"
   ]
  },
  {
   "cell_type": "markdown",
   "metadata": {},
   "source": [
    "We will now use and fit a Random Forest Model to the training data."
   ]
  },
  {
   "cell_type": "code",
   "execution_count": 32,
   "metadata": {},
   "outputs": [
    {
     "data": {
      "text/plain": [
       "RandomForestRegressor(bootstrap=True, criterion='mse', max_depth=None,\n",
       "           max_features='auto', max_leaf_nodes=None,\n",
       "           min_impurity_split=1e-07, min_samples_leaf=1,\n",
       "           min_samples_split=2, min_weight_fraction_leaf=0.0,\n",
       "           n_estimators=10, n_jobs=-1, oob_score=False, random_state=8,\n",
       "           verbose=0, warm_start=False)"
      ]
     },
     "execution_count": 32,
     "metadata": {},
     "output_type": "execute_result"
    }
   ],
   "source": [
    "model = RandomForestRegressor(random_state = 8, n_jobs=-1)\n",
    "model.fit(X_train, y_train)"
   ]
  },
  {
   "cell_type": "code",
   "execution_count": 33,
   "metadata": {},
   "outputs": [
    {
     "data": {
      "text/plain": [
       "0.99645483325815409"
      ]
     },
     "execution_count": 33,
     "metadata": {},
     "output_type": "execute_result"
    }
   ],
   "source": [
    "model.score(X_train,y_train)"
   ]
  },
  {
   "cell_type": "markdown",
   "metadata": {},
   "source": [
    "The R^2 of this model (with the training data) is very close to 1, so the model performed very well for the training data (as expected).\n",
    "\n",
    "We will truly test this model by calculating the R^2 and the mean absolute error (MAE) for the validation data (which wasn't used for fitting the model)."
   ]
  },
  {
   "cell_type": "code",
   "execution_count": 34,
   "metadata": {},
   "outputs": [
    {
     "name": "stdout",
     "output_type": "stream",
     "text": [
      "The R2 for the validation data is: 0.979247263249\n",
      "The MAE for the validation data is: 284.25210376\n"
     ]
    }
   ],
   "source": [
    "y_pred = model.predict(X_val)\n",
    "r2 = r2_score(y_pred, y_val)\n",
    "mae = mean_absolute_error(y_pred,y_val)\n",
    "\n",
    "print('The R2 for the validation data is: '+ str(r2))\n",
    "print('The MAE for the validation data is: '+ str(mae))\n",
    "\n"
   ]
  },
  {
   "cell_type": "markdown",
   "metadata": {},
   "source": [
    "We can see we got a great R^2 (really close to 1) for the validation data. The MAE is 284.25, which means that on average our predictions are off by 248.25 muggle money.\n",
    "\n",
    "## 3. Predicting for the test data\n",
    "\n",
    "We will now make a data frame of the stolen diamonds and predict their price."
   ]
  },
  {
   "cell_type": "code",
   "execution_count": 35,
   "metadata": {},
   "outputs": [
    {
     "data": {
      "text/html": [
       "<div>\n",
       "<style>\n",
       "    .dataframe thead tr:only-child th {\n",
       "        text-align: right;\n",
       "    }\n",
       "\n",
       "    .dataframe thead th {\n",
       "        text-align: left;\n",
       "    }\n",
       "\n",
       "    .dataframe tbody tr th {\n",
       "        vertical-align: top;\n",
       "    }\n",
       "</style>\n",
       "<table border=\"1\" class=\"dataframe\">\n",
       "  <thead>\n",
       "    <tr style=\"text-align: right;\">\n",
       "      <th></th>\n",
       "      <th>carat</th>\n",
       "      <th>depth</th>\n",
       "      <th>n_clarity</th>\n",
       "      <th>n_color</th>\n",
       "      <th>n_cut</th>\n",
       "      <th>table</th>\n",
       "      <th>x</th>\n",
       "      <th>y</th>\n",
       "      <th>z</th>\n",
       "    </tr>\n",
       "  </thead>\n",
       "  <tbody>\n",
       "    <tr>\n",
       "      <th>0</th>\n",
       "      <td>0.71</td>\n",
       "      <td>63.1</td>\n",
       "      <td>6</td>\n",
       "      <td>2</td>\n",
       "      <td>2</td>\n",
       "      <td>58.0</td>\n",
       "      <td>5.64</td>\n",
       "      <td>5.71</td>\n",
       "      <td>3.58</td>\n",
       "    </tr>\n",
       "    <tr>\n",
       "      <th>1</th>\n",
       "      <td>0.83</td>\n",
       "      <td>62.1</td>\n",
       "      <td>5</td>\n",
       "      <td>4</td>\n",
       "      <td>5</td>\n",
       "      <td>55.0</td>\n",
       "      <td>6.02</td>\n",
       "      <td>6.05</td>\n",
       "      <td>3.75</td>\n",
       "    </tr>\n",
       "    <tr>\n",
       "      <th>2</th>\n",
       "      <td>0.50</td>\n",
       "      <td>61.5</td>\n",
       "      <td>4</td>\n",
       "      <td>6</td>\n",
       "      <td>5</td>\n",
       "      <td>55.0</td>\n",
       "      <td>5.11</td>\n",
       "      <td>5.16</td>\n",
       "      <td>3.16</td>\n",
       "    </tr>\n",
       "    <tr>\n",
       "      <th>3</th>\n",
       "      <td>0.39</td>\n",
       "      <td>61.6</td>\n",
       "      <td>5</td>\n",
       "      <td>1</td>\n",
       "      <td>4</td>\n",
       "      <td>59.0</td>\n",
       "      <td>4.67</td>\n",
       "      <td>4.71</td>\n",
       "      <td>2.89</td>\n",
       "    </tr>\n",
       "    <tr>\n",
       "      <th>4</th>\n",
       "      <td>0.32</td>\n",
       "      <td>62.1</td>\n",
       "      <td>5</td>\n",
       "      <td>4</td>\n",
       "      <td>4</td>\n",
       "      <td>56.0</td>\n",
       "      <td>4.43</td>\n",
       "      <td>4.40</td>\n",
       "      <td>2.74</td>\n",
       "    </tr>\n",
       "    <tr>\n",
       "      <th>5</th>\n",
       "      <td>0.90</td>\n",
       "      <td>63.3</td>\n",
       "      <td>2</td>\n",
       "      <td>5</td>\n",
       "      <td>2</td>\n",
       "      <td>57.0</td>\n",
       "      <td>6.08</td>\n",
       "      <td>6.14</td>\n",
       "      <td>3.87</td>\n",
       "    </tr>\n",
       "    <tr>\n",
       "      <th>6</th>\n",
       "      <td>0.51</td>\n",
       "      <td>60.9</td>\n",
       "      <td>5</td>\n",
       "      <td>7</td>\n",
       "      <td>5</td>\n",
       "      <td>57.0</td>\n",
       "      <td>5.20</td>\n",
       "      <td>5.17</td>\n",
       "      <td>3.16</td>\n",
       "    </tr>\n",
       "    <tr>\n",
       "      <th>7</th>\n",
       "      <td>1.12</td>\n",
       "      <td>62.1</td>\n",
       "      <td>6</td>\n",
       "      <td>4</td>\n",
       "      <td>5</td>\n",
       "      <td>54.8</td>\n",
       "      <td>6.64</td>\n",
       "      <td>6.66</td>\n",
       "      <td>4.13</td>\n",
       "    </tr>\n",
       "    <tr>\n",
       "      <th>8</th>\n",
       "      <td>0.40</td>\n",
       "      <td>62.4</td>\n",
       "      <td>6</td>\n",
       "      <td>4</td>\n",
       "      <td>5</td>\n",
       "      <td>56.0</td>\n",
       "      <td>4.72</td>\n",
       "      <td>4.74</td>\n",
       "      <td>2.95</td>\n",
       "    </tr>\n",
       "    <tr>\n",
       "      <th>9</th>\n",
       "      <td>0.36</td>\n",
       "      <td>62.7</td>\n",
       "      <td>4</td>\n",
       "      <td>2</td>\n",
       "      <td>4</td>\n",
       "      <td>59.0</td>\n",
       "      <td>4.54</td>\n",
       "      <td>4.58</td>\n",
       "      <td>2.86</td>\n",
       "    </tr>\n",
       "  </tbody>\n",
       "</table>\n",
       "</div>"
      ],
      "text/plain": [
       "   carat  depth  n_clarity  n_color  n_cut  table     x     y     z\n",
       "0   0.71   63.1          6        2      2   58.0  5.64  5.71  3.58\n",
       "1   0.83   62.1          5        4      5   55.0  6.02  6.05  3.75\n",
       "2   0.50   61.5          4        6      5   55.0  5.11  5.16  3.16\n",
       "3   0.39   61.6          5        1      4   59.0  4.67  4.71  2.89\n",
       "4   0.32   62.1          5        4      4   56.0  4.43  4.40  2.74\n",
       "5   0.90   63.3          2        5      2   57.0  6.08  6.14  3.87\n",
       "6   0.51   60.9          5        7      5   57.0  5.20  5.17  3.16\n",
       "7   1.12   62.1          6        4      5   54.8  6.64  6.66  4.13\n",
       "8   0.40   62.4          6        4      5   56.0  4.72  4.74  2.95\n",
       "9   0.36   62.7          4        2      4   59.0  4.54  4.58  2.86"
      ]
     },
     "execution_count": 35,
     "metadata": {},
     "output_type": "execute_result"
    }
   ],
   "source": [
    "data = {'carat':[0.71,0.83,0.5,0.39,0.32,0.9,0.51,1.12,0.4,0.36], 'n_cut':[2,5,5,4,4,2,5,5,5,4], 'n_color':[2,4,6,1,4,5,7,4,4,2], 'n_clarity':[6,5,4,5,5,2,5,6,6,4], 'depth':[63.1,62.1,61.5,61.6,62.1,63.3,60.9,62.1,62.4,62.7], 'table':[58,55,55,59,56,57,57,54.8,56,59], 'x':[5.64,6.02,5.11,4.67,4.43,6.08,5.2,6.64,4.72,4.54], 'y':[5.71,6.05,5.16,4.71,4.4,6.14,5.17,6.66,4.74,4.58], 'z':[3.58,3.75,3.16,2.89,2.74,3.87,3.16,4.13,2.95,2.86]}\n",
    "stolen_diamonds = pd.DataFrame(data)\n",
    "stolen_diamonds\n"
   ]
  },
  {
   "cell_type": "code",
   "execution_count": 39,
   "metadata": {},
   "outputs": [
    {
     "name": "stdout",
     "output_type": "stream",
     "text": [
      "Our prediction for the prices of the stolen diamonds is: \n",
      "[  2918.6   3461.9   1887.8    466.3    447.5   4228.    2154.2  11648.5\n",
      "    710.8    466.3]\n"
     ]
    }
   ],
   "source": [
    "stolen_price = model.predict(stolen_diamonds)\n",
    "print('Our prediction for the prices of the stolen diamonds is: ')\n",
    "print(stolen_price)"
   ]
  },
  {
   "cell_type": "markdown",
   "metadata": {},
   "source": [
    "## 4. Conclusions.\n",
    "\n",
    "This random forest regressor has a very good R^2 for the validation sample, that means that most of it's estimations are close to the real value, but also it has a significant mean absolute error (248 $ is a considerable error). This means that sometimes the model fails by big amounts of money, making that average higher.\n"
   ]
  }
 ],
 "metadata": {
  "kernelspec": {
   "display_name": "Python 2",
   "language": "python",
   "name": "python2"
  },
  "language_info": {
   "codemirror_mode": {
    "name": "ipython",
    "version": 2
   },
   "file_extension": ".py",
   "mimetype": "text/x-python",
   "name": "python",
   "nbconvert_exporter": "python",
   "pygments_lexer": "ipython2",
   "version": "2.7.13"
  }
 },
 "nbformat": 4,
 "nbformat_minor": 2
}
