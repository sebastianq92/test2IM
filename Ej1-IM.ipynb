{
 "cells": [
  {
   "cell_type": "markdown",
   "metadata": {},
   "source": [
    "# The X-files problem\n",
    "\n",
    "#### This problem is for you to show your abilities in data loading, cleaning and descriptive analysis. Some rows contain errors. Extra points: clean these rows and include them in your analysis.\n",
    "\n",
    "You’re at the airport, on your way to a Data Science conference abroad. A strange, but somewhat familiar man sits right next to you. He’s talking on the phone and wearing a tin hat. He briefly looks at you and turns away lowering his voice suspiciously. Although you know it isn’t right, you try to listen in on the conversation he’s having---let’s call it your scientific interest.\n",
    "\n",
    "Strange Man: “... not a real one, no,” he says. “Do you know how rare U.F.O. sightings are?”\n",
    "\n",
    "You: “Actually,” you interject, “it’s really simple, if you have the data.”\n",
    "\n",
    "\n",
    "The old man looks at you, first alarmed and then with curiosity.\n",
    "\n",
    "Strange Man: “Explain.”\n",
    "\n",
    "You: “Well, with enough data you can make estimations about the probability of an event, however rare it may occur.”\n",
    "\n",
    "Strange Man: “Can you do it?” he asks you.\n",
    "\n",
    "You: “Of course, I’m a data scientist. I just need data.”\n",
    "\n",
    "Strange Man: “In that case,” as the man spoke, he began rummaging through his travel bag until he pulled out a parcel covered in tinfoil. It was a shoebox filled with floppy disks.\n",
    "\n",
    "Strange Man: “...here’s data my company, Infinito, has collected about U.F.O. sightings. People from around the world go to my company’s website and fill-out a form about their U.F.O. experience. I would like to hire you to tell me where I should go if I want to see an U.F.O. or interview people that claim sightings.”\n",
    "\n",
    "As you take the box, still wondering where you’ll get a computer capable of reading the floppy disks, he gets up and starts to leave.\n",
    "\n",
    "Strange Man: “Ohhhh!  I almost forgot.” he says. “Make sure you present your findings in a way my shareholders will understand. The truth may be out there... and no one is doing anything.”\n"
   ]
  },
  {
   "cell_type": "markdown",
   "metadata": {},
   "source": [
    "## Introduction.\n",
    "\n",
    "We will start this exercise by handling the missing values and cleaning the dataframe. Then we will conduct a geographic analysis, followed by a temporal analysis. "
   ]
  },
  {
   "cell_type": "code",
   "execution_count": 8,
   "metadata": {
    "collapsed": true
   },
   "outputs": [],
   "source": [
    "import pandas as pd\n",
    "import numpy as np\n",
    "import matplotlib.pyplot as plt"
   ]
  },
  {
   "cell_type": "code",
   "execution_count": 9,
   "metadata": {},
   "outputs": [
    {
     "name": "stdout",
     "output_type": "stream",
     "text": [
      "<class 'pandas.core.frame.DataFrame'>\n",
      "RangeIndex: 80332 entries, 0 to 80331\n",
      "Data columns (total 11 columns):\n",
      "datetime                80332 non-null object\n",
      "city                    80332 non-null object\n",
      "state                   74535 non-null object\n",
      "country                 70662 non-null object\n",
      "shape                   78400 non-null object\n",
      "duration (seconds)      80332 non-null object\n",
      "duration (hours/min)    80332 non-null object\n",
      "comments                80317 non-null object\n",
      "date posted             80332 non-null object\n",
      "latitude                80332 non-null object\n",
      "longitude               80332 non-null float64\n",
      "dtypes: float64(1), object(10)\n",
      "memory usage: 6.7+ MB\n"
     ]
    }
   ],
   "source": [
    "ufos = pd.read_csv('/Users/sebastianquintanilla/Downloads/ufo_sightings/UFO_sightings.csv', low_memory = False)\n",
    "# Info is stored in the DataFrame 'ufos'\n",
    "# We use low_memory = False to avoid warning of columns with mixed types\n",
    "\n",
    "ufos.info()"
   ]
  },
  {
   "cell_type": "markdown",
   "metadata": {},
   "source": [
    "We can see that the data types of most columns is object (except for longitude that is a float). Notice that the columns with missing entries are state, country, shape and comments.\n",
    "Lastly, we realize we have two columns for the duration of the sighting. We drop the second one, since having that information in seconds is easier to handle."
   ]
  },
  {
   "cell_type": "code",
   "execution_count": 10,
   "metadata": {
    "collapsed": true
   },
   "outputs": [],
   "source": [
    "ufos.drop('duration (hours/min)',axis=1, inplace = True)\n",
    "\n",
    "ufos['latitude'] = pd.to_numeric(ufos['latitude'], errors='coerce')\n",
    "ufos['datetime'] = pd.to_datetime(ufos['datetime'], errors='coerce')\n",
    "ufos.rename(columns={'longitude ':'longitude'}, inplace = True)\n",
    "\n",
    "ufos.info()"
   ]
  },
  {
   "cell_type": "markdown",
   "metadata": {},
   "source": [
    "Now the columns datetime and latitude have also missing values (1 and ~700) because of the change of data type. Next we can see the amount of missing entries in each of the columns."
   ]
  },
  {
   "cell_type": "code",
   "execution_count": 15,
   "metadata": {},
   "outputs": [
    {
     "name": "stdout",
     "output_type": "stream",
     "text": [
      "country               9670\n",
      "state                 5797\n",
      "shape                 1932\n",
      "datetime               694\n",
      "comments                15\n",
      "latitude                 1\n",
      "longitude                0\n",
      "date posted              0\n",
      "duration (seconds)       0\n",
      "city                     0\n",
      "dtype: int64\n"
     ]
    }
   ],
   "source": [
    "missing = ufos.isnull().sum()\n",
    "print(missing.sort_values(ascending=False))"
   ]
  },
  {
   "cell_type": "markdown",
   "metadata": {},
   "source": [
    "Most of our missing data is geographic, around 12% of rows don't have the country and 7% don't have the state information. Also the shape information is missing in 2%, but in this data (as  with the comments) we don't have much problem with missing values. Lastly, we will ignore the missing values in our datetime data since it is a bit less than 1%."
   ]
  },
  {
   "cell_type": "markdown",
   "metadata": {},
   "source": [
    "## 1. Geographic Analysis."
   ]
  },
  {
   "cell_type": "code",
   "execution_count": 53,
   "metadata": {},
   "outputs": [
    {
     "data": {
      "text/plain": [
       "country\n",
       "us    65114\n",
       "?      9670\n",
       "ca     3000\n",
       "gb     1905\n",
       "au      538\n",
       "de      105\n",
       "dtype: int64"
      ]
     },
     "execution_count": 53,
     "metadata": {},
     "output_type": "execute_result"
    }
   ],
   "source": [
    "ufos['country'].fillna('?', inplace = True)\n",
    "ufos.groupby('country').size().sort_values(ascending = False)"
   ]
  },
  {
   "cell_type": "code",
   "execution_count": 81,
   "metadata": {},
   "outputs": [
    {
     "data": {
      "image/png": "[encoded data removed]",
      "text/plain": [
       "<matplotlib.figure.Figure at 0x1222ceb10>"
      ]
     },
     "metadata": {},
     "output_type": "display_data"
    }
   ],
   "source": [
    "ufos['country'].value_counts().plot(kind = 'bar')\n",
    "plt.xlabel('country')\n",
    "plt.ylabel('Number of sightings')\n",
    "plt.title('Numer of UFO sightings by country')\n",
    "plt.show()"
   ]
  },
  {
   "cell_type": "markdown",
   "metadata": {},
   "source": [
    "Our data has 5 declared countries, United States of America (us), Canada (ca), Great Britain (gb), Australia (au) and Germany (de). We marked the missing values with \"?\". \n",
    "\n",
    "Most of the sightings (81%) come from the U.S., followed by the missing values. Before we take care of the missing geographic info we wil plot the coordinates (longitude and latitude) of all the sightings, and then of all the sightings with missing country info, to see where are those sightings located.\n",
    "\n",
    "Because the U.S. is the country with the most sightings we will see which state is where most UFOs are seen."
   ]
  },
  {
   "cell_type": "code",
   "execution_count": 84,
   "metadata": {},
   "outputs": [
    {
     "data": {
      "text/plain": [
       "country  state\n",
       "us       ca       0.136868\n",
       "         wa       0.060909\n",
       "         fl       0.058897\n",
       "         tx       0.052938\n",
       "         ny       0.045766\n",
       "         il       0.038379\n",
       "         az       0.037073\n",
       "         pa       0.036336\n",
       "         oh       0.034939\n",
       "         mi       0.028197\n",
       "         or       0.026830\n",
       "         nc       0.026722\n",
       "         mo       0.022391\n",
       "         co       0.021700\n",
       "         in       0.019781\n",
       "         va       0.019550\n",
       "         ma       0.019289\n",
       "         nj       0.019274\n",
       "         ga       0.019274\n",
       "         wi       0.018921\n",
       "         tn       0.017185\n",
       "         mn       0.015542\n",
       "         sc       0.015404\n",
       "         ct       0.013699\n",
       "         ky       0.013131\n",
       "         md       0.012854\n",
       "         nv       0.012332\n",
       "         ok       0.011119\n",
       "         nm       0.011058\n",
       "         ia       0.010413\n",
       "         al       0.009860\n",
       "         ut       0.009552\n",
       "         ks       0.009414\n",
       "         ar       0.009030\n",
       "         me       0.008570\n",
       "         la       0.008570\n",
       "         id       0.008001\n",
       "         nh       0.007464\n",
       "         mt       0.007341\n",
       "         wv       0.006880\n",
       "         ne       0.005851\n",
       "         ms       0.005759\n",
       "         ak       0.004899\n",
       "         hi       0.004024\n",
       "         vt       0.003993\n",
       "         ri       0.003502\n",
       "         sd       0.002810\n",
       "         wy       0.002688\n",
       "         de       0.002549\n",
       "         nd       0.001981\n",
       "         pr       0.000384\n",
       "         dc       0.000108\n",
       "dtype: float64"
      ]
     },
     "execution_count": 84,
     "metadata": {},
     "output_type": "execute_result"
    }
   ],
   "source": [
    "n = len(ufos[ufos['country']=='us'])\n",
    "ufos[ufos['country']=='us'].groupby(['country','state']).size().sort_values(ascending=False)/n"
   ]
  },
  {
   "cell_type": "markdown",
   "metadata": {},
   "source": [
    "13.7% of sightings in the U.S. happened in the state of California. That is more than double the sighting of the runner-up states Washington (6.1%), Florida (5.9%) and Texas (5.3%).\n",
    "\n",
    "Given that 81% of the sightings were in the U.S., 10% of all the reported sightings were in the state of California, which is very impressive."
   ]
  },
  {
   "cell_type": "markdown",
   "metadata": {},
   "source": [
    "## 2. Temporal Analysis.\n",
    "\n",
    "We will now analyze in which time do the sightings occur. We will begin by looking at the decade they occurred."
   ]
  },
  {
   "cell_type": "code",
   "execution_count": 45,
   "metadata": {
    "collapsed": true
   },
   "outputs": [],
   "source": [
    "def decade(row):\n",
    "    '''This function returns the hour the sighting happened given its datetime info\n",
    "    '''\n",
    "    try:\n",
    "        row['decade'] = int(row['datetime'].year/10)*10\n",
    "    except:\n",
    "        pass\n",
    "    return row\n",
    "ufos = ufos.apply(decade, axis=1)"
   ]
  },
  {
   "cell_type": "code",
   "execution_count": 51,
   "metadata": {},
   "outputs": [
    {
     "data": {
      "image/png": "[encoded data removed]",
      "text/plain": [
       "<matplotlib.figure.Figure at 0x121022050>"
      ]
     },
     "metadata": {},
     "output_type": "display_data"
    }
   ],
   "source": [
    "ufos['decade'].value_counts().plot(kind = 'bar')\n",
    "plt.xlabel('Decade')\n",
    "plt.ylabel('Number of sightings')\n",
    "plt.show()"
   ]
  },
  {
   "cell_type": "markdown",
   "metadata": {},
   "source": [
    "Most UFO sightings happened in the 2000's and 2010's (the 2010's have less data because this database ends in 2014). Maybe recently more UFOs have visited our planet and that is why there have been much more sightings in the last two decades, but it seems more reasonable to assume that more sightings are reported recently only because now it is easier to gather this information.\n",
    "\n",
    "So we will assume that the decade has no influence in the number of sightings (although it is curious to notice that the 70's had more sightings than the 80's)."
   ]
  },
  {
   "cell_type": "code",
   "execution_count": 25,
   "metadata": {
    "collapsed": true
   },
   "outputs": [],
   "source": [
    "def hour(row):\n",
    "    '''This function returns the hour the sighting happened given its datetime info\n",
    "    '''\n",
    "    row['hour'] = row['datetime'].hour\n",
    "    return row\n",
    "\n",
    "ufos = ufos.apply(hour, axis=1)"
   ]
  },
  {
   "cell_type": "code",
   "execution_count": 50,
   "metadata": {},
   "outputs": [
    {
     "data": {
      "image/png": "[encoded data removed]",
      "text/plain": [
       "<matplotlib.figure.Figure at 0x1201f4110>"
      ]
     },
     "metadata": {},
     "output_type": "display_data"
    }
   ],
   "source": [
    "ufos['hour'].hist(bins=24)\n",
    "plt.xlabel('Hour')\n",
    "plt.ylabel('Number of sightings')\n",
    "plt.show()"
   ]
  },
  {
   "cell_type": "markdown",
   "metadata": {},
   "source": [
    "We can see that the most UFOs sighting happen at night, between 18:00 and 24:00. This could be because UFOs are mostly visible when the sun is not around, and after midnight most people are asleep or inside their houses, where they cannot see UFOs. Or maybe, this are the most common hours to see an UFO because those are the best hours for aliens to visit our planet.\n",
    "\n",
    "Either way, it looks like the best time to look for UFOs is between 18:00 and 24:00.\n",
    "\n",
    "Now we will investigate if the season of the year has an influence in the sightings."
   ]
  },
  {
   "cell_type": "code",
   "execution_count": 33,
   "metadata": {
    "collapsed": true
   },
   "outputs": [],
   "source": [
    "def season(row):\n",
    "    ''' This function tells us the season the sighting happened, taking into account \n",
    "    the hemisphere (latitude > 0 is northern hemisphere)\n",
    "    '''\n",
    "    if row['latitude'>0]:\n",
    "        if 3 <= row['datetime'].month < 6:\n",
    "            row['season'] = 'Spring'\n",
    "        elif 6 <= row['datetime'].month <9:\n",
    "            row['season'] = 'Summer'\n",
    "        elif 9 <= row['datetime'].month <12:\n",
    "            row['season'] = 'Autumn'\n",
    "        else:\n",
    "            row['season'] = 'Winter'\n",
    "    else:\n",
    "        if 3 <= row['datetime'].month < 6:\n",
    "            row['season'] = 'Autumn'\n",
    "        elif 6 <= row['datetime'].month <9:\n",
    "            row['season'] = 'Winter'\n",
    "        elif 9 <= row['datetime'].month <12:\n",
    "            row['season'] = 'Spring'\n",
    "        else:\n",
    "            row['season'] = 'Summer'\n",
    "    return row\n",
    "\n",
    "ufos = ufos.apply(season, axis=1)        "
   ]
  },
  {
   "cell_type": "code",
   "execution_count": 52,
   "metadata": {},
   "outputs": [
    {
     "data": {
      "image/png": "[encoded data removed]",
      "text/plain": [
       "<matplotlib.figure.Figure at 0x120fec250>"
      ]
     },
     "metadata": {},
     "output_type": "display_data"
    }
   ],
   "source": [
    "ufos['season'].value_counts().plot(kind = 'bar')\n",
    "plt.xlabel('Season')\n",
    "plt.ylabel('Number of sightings')\n",
    "plt.show()"
   ]
  },
  {
   "cell_type": "markdown",
   "metadata": {},
   "source": [
    "UFOs are seen all around the year, but according to the data it is more likely to see one on Summer than on the other seasons. Maybe more sightings have happened on summer because people are more likely to be out at night on warmer days, or because the skies are clearer on summer."
   ]
  },
  {
   "cell_type": "markdown",
   "metadata": {},
   "source": [
    "## 3. Conclusion."
   ]
  },
  {
   "cell_type": "code",
   "execution_count": 55,
   "metadata": {},
   "outputs": [
    {
     "data": {
      "image/png": "[encoded data removed]",
      "text/plain": [
       "<matplotlib.figure.Figure at 0x1219a7ed0>"
      ]
     },
     "metadata": {},
     "output_type": "display_data"
    }
   ],
   "source": [
    "ufos['shape'].fillna('Not specified', inplace = True)\n",
    "ufos['shape'].value_counts().plot(kind = 'bar')\n",
    "plt.xlabel('Shape')\n",
    "plt.ylabel('Number of sightings')\n",
    "plt.title('Shapes of UFOs seen')\n",
    "plt.show()"
   ]
  },
  {
   "cell_type": "markdown",
   "metadata": {},
   "source": [
    "The most popular shape is described as \"light\", with triangular and circular shape following in 2nd and 3rd place with half as many times seen. We conclude that if you are looking for a UFO, you should be looking to the sky at around 21:00 in summer, in the U.S., searching for something with a light. This way you will maximize your chances of seeing a UFO."
   ]
  },
  {
   "cell_type": "markdown",
   "metadata": {},
   "source": [
    "## 4. Bonus (adding geographic data)."
   ]
  },
  {
   "cell_type": "markdown",
   "metadata": {},
   "source": [
    "From the locations of all the UFO sightings (below) we can see the outline of an earth map. We see most of the sightings ocurred in the U.S., in the south of Canada and in Europe, but some sightings are located all around the world."
   ]
  },
  {
   "cell_type": "code",
   "execution_count": 56,
   "metadata": {},
   "outputs": [
    {
     "data": {
      "image/png": "[encoded data removed]",
      "text/plain": [
       "<matplotlib.figure.Figure at 0x121e5c1d0>"
      ]
     },
     "metadata": {},
     "output_type": "display_data"
    }
   ],
   "source": [
    "ufos.plot.scatter(x = 'longitude', y = 'latitude', s=0.05)\n",
    "plt.xlabel('Longitude')\n",
    "plt.ylabel('Latitude')\n",
    "plt.title('Locations of all the UFO sightings')\n",
    "plt.show()"
   ]
  },
  {
   "cell_type": "markdown",
   "metadata": {},
   "source": [
    "We can see that many of the UFO sightings without 'country' information are located in the U.S., England and Germany. We will try to add the country information to the sightings that occur in those already informed countries.\n",
    "\n",
    "For this we will use the package geopy, and its function that returns an address given the coordinates of the place (latitude and longitude), since we have this information for evey sighting."
   ]
  },
  {
   "cell_type": "code",
   "execution_count": 57,
   "metadata": {},
   "outputs": [
    {
     "data": {
      "image/png": "[encoded data removed]",
      "text/plain": [
       "<matplotlib.figure.Figure at 0x120fb4cd0>"
      ]
     },
     "metadata": {},
     "output_type": "display_data"
    }
   ],
   "source": [
    "ufos[ufos['country']=='?'].plot.scatter(x = 'longitude', y = 'latitude', s=0.05)\n",
    "plt.xlabel('Longitude')\n",
    "plt.ylabel('Latitude')\n",
    "plt.title('Locations of UFO sightings without country info')\n",
    "plt.show()"
   ]
  },
  {
   "cell_type": "code",
   "execution_count": 76,
   "metadata": {
    "collapsed": true
   },
   "outputs": [],
   "source": [
    "from geopy.geocoders import Nominatim\n",
    "geolocator = Nominatim(user_agent=\"specify_your_app_name_here\")\n",
    "\n",
    "\n",
    "def country(row):\n",
    "    '''this function returns the country code given a row of a dataset that has latitude and longitde\n",
    "    '''\n",
    "    if row['country'] == '?':\n",
    "        loc = geolocator.reverse([row['latitude'], row['longitude']])\n",
    "        row['country'] = loc.raw['address']['country_code'].encode('utf-8') \n",
    "    return row"
   ]
  },
  {
   "cell_type": "markdown",
   "metadata": {},
   "source": [
    "This function works, but it was hard to use it for the whole data set, because the geolocator can only be used at most once every second (for the 10 rows without country this would take at least 2.7 hours). And this is why I couldn't do it, but I tried it for the head() of the dataframe and it works.\n",
    "\n",
    "In the second row of the dataframe ufos the country is missing, where it should say \"us\"."
   ]
  },
  {
   "cell_type": "code",
   "execution_count": 77,
   "metadata": {},
   "outputs": [
    {
     "data": {
      "text/html": [
       "<div>\n",
       "<style>\n",
       "    .dataframe thead tr:only-child th {\n",
       "        text-align: right;\n",
       "    }\n",
       "\n",
       "    .dataframe thead th {\n",
       "        text-align: left;\n",
       "    }\n",
       "\n",
       "    .dataframe tbody tr th {\n",
       "        vertical-align: top;\n",
       "    }\n",
       "</style>\n",
       "<table border=\"1\" class=\"dataframe\">\n",
       "  <thead>\n",
       "    <tr style=\"text-align: right;\">\n",
       "      <th></th>\n",
       "      <th>city</th>\n",
       "      <th>comments</th>\n",
       "      <th>country</th>\n",
       "      <th>date posted</th>\n",
       "      <th>datetime</th>\n",
       "      <th>decade</th>\n",
       "      <th>duration (seconds)</th>\n",
       "      <th>hour</th>\n",
       "      <th>latitude</th>\n",
       "      <th>longitude</th>\n",
       "      <th>season</th>\n",
       "      <th>shape</th>\n",
       "      <th>state</th>\n",
       "    </tr>\n",
       "  </thead>\n",
       "  <tbody>\n",
       "    <tr>\n",
       "      <th>0</th>\n",
       "      <td>san marcos</td>\n",
       "      <td>This event took place in early fall around 194...</td>\n",
       "      <td>us</td>\n",
       "      <td>4/27/2004</td>\n",
       "      <td>1949-10-10 20:30:00</td>\n",
       "      <td>1940.0</td>\n",
       "      <td>2700</td>\n",
       "      <td>20.0</td>\n",
       "      <td>29.883056</td>\n",
       "      <td>-97.941111</td>\n",
       "      <td>Autumn</td>\n",
       "      <td>cylinder</td>\n",
       "      <td>tx</td>\n",
       "    </tr>\n",
       "    <tr>\n",
       "      <th>1</th>\n",
       "      <td>lackland afb</td>\n",
       "      <td>1949 Lackland AFB&amp;#44 TX.  Lights racing acros...</td>\n",
       "      <td>?</td>\n",
       "      <td>12/16/2005</td>\n",
       "      <td>1949-10-10 21:00:00</td>\n",
       "      <td>1940.0</td>\n",
       "      <td>7200</td>\n",
       "      <td>21.0</td>\n",
       "      <td>29.384210</td>\n",
       "      <td>-98.581082</td>\n",
       "      <td>Autumn</td>\n",
       "      <td>light</td>\n",
       "      <td>tx</td>\n",
       "    </tr>\n",
       "    <tr>\n",
       "      <th>2</th>\n",
       "      <td>chester (uk/england)</td>\n",
       "      <td>Green/Orange circular disc over Chester&amp;#44 En...</td>\n",
       "      <td>gb</td>\n",
       "      <td>1/21/2008</td>\n",
       "      <td>1955-10-10 17:00:00</td>\n",
       "      <td>1950.0</td>\n",
       "      <td>20</td>\n",
       "      <td>17.0</td>\n",
       "      <td>53.200000</td>\n",
       "      <td>-2.916667</td>\n",
       "      <td>Autumn</td>\n",
       "      <td>circle</td>\n",
       "      <td>NaN</td>\n",
       "    </tr>\n",
       "    <tr>\n",
       "      <th>3</th>\n",
       "      <td>edna</td>\n",
       "      <td>My older brother and twin sister were leaving ...</td>\n",
       "      <td>us</td>\n",
       "      <td>1/17/2004</td>\n",
       "      <td>1956-10-10 21:00:00</td>\n",
       "      <td>1950.0</td>\n",
       "      <td>20</td>\n",
       "      <td>21.0</td>\n",
       "      <td>28.978333</td>\n",
       "      <td>-96.645833</td>\n",
       "      <td>Autumn</td>\n",
       "      <td>circle</td>\n",
       "      <td>tx</td>\n",
       "    </tr>\n",
       "    <tr>\n",
       "      <th>4</th>\n",
       "      <td>kaneohe</td>\n",
       "      <td>AS a Marine 1st Lt. flying an FJ4B fighter/att...</td>\n",
       "      <td>us</td>\n",
       "      <td>1/22/2004</td>\n",
       "      <td>1960-10-10 20:00:00</td>\n",
       "      <td>1960.0</td>\n",
       "      <td>900</td>\n",
       "      <td>20.0</td>\n",
       "      <td>21.418056</td>\n",
       "      <td>-157.803611</td>\n",
       "      <td>Autumn</td>\n",
       "      <td>light</td>\n",
       "      <td>hi</td>\n",
       "    </tr>\n",
       "  </tbody>\n",
       "</table>\n",
       "</div>"
      ],
      "text/plain": [
       "                   city                                           comments  \\\n",
       "0            san marcos  This event took place in early fall around 194...   \n",
       "1          lackland afb  1949 Lackland AFB&#44 TX.  Lights racing acros...   \n",
       "2  chester (uk/england)  Green/Orange circular disc over Chester&#44 En...   \n",
       "3                  edna  My older brother and twin sister were leaving ...   \n",
       "4               kaneohe  AS a Marine 1st Lt. flying an FJ4B fighter/att...   \n",
       "\n",
       "  country date posted            datetime  decade duration (seconds)  hour  \\\n",
       "0      us   4/27/2004 1949-10-10 20:30:00  1940.0               2700  20.0   \n",
       "1       ?  12/16/2005 1949-10-10 21:00:00  1940.0               7200  21.0   \n",
       "2      gb   1/21/2008 1955-10-10 17:00:00  1950.0                 20  17.0   \n",
       "3      us   1/17/2004 1956-10-10 21:00:00  1950.0                 20  21.0   \n",
       "4      us   1/22/2004 1960-10-10 20:00:00  1960.0                900  20.0   \n",
       "\n",
       "    latitude   longitude  season     shape state  \n",
       "0  29.883056  -97.941111  Autumn  cylinder    tx  \n",
       "1  29.384210  -98.581082  Autumn     light    tx  \n",
       "2  53.200000   -2.916667  Autumn    circle   NaN  \n",
       "3  28.978333  -96.645833  Autumn    circle    tx  \n",
       "4  21.418056 -157.803611  Autumn     light    hi  "
      ]
     },
     "execution_count": 77,
     "metadata": {},
     "output_type": "execute_result"
    }
   ],
   "source": [
    "ufos.head()"
   ]
  },
  {
   "cell_type": "markdown",
   "metadata": {},
   "source": [
    "When we apply the function we see the second row country has been filled with \"us\"."
   ]
  },
  {
   "cell_type": "code",
   "execution_count": 79,
   "metadata": {},
   "outputs": [
    {
     "data": {
      "text/html": [
       "<div>\n",
       "<style>\n",
       "    .dataframe thead tr:only-child th {\n",
       "        text-align: right;\n",
       "    }\n",
       "\n",
       "    .dataframe thead th {\n",
       "        text-align: left;\n",
       "    }\n",
       "\n",
       "    .dataframe tbody tr th {\n",
       "        vertical-align: top;\n",
       "    }\n",
       "</style>\n",
       "<table border=\"1\" class=\"dataframe\">\n",
       "  <thead>\n",
       "    <tr style=\"text-align: right;\">\n",
       "      <th></th>\n",
       "      <th>city</th>\n",
       "      <th>comments</th>\n",
       "      <th>country</th>\n",
       "      <th>date posted</th>\n",
       "      <th>datetime</th>\n",
       "      <th>decade</th>\n",
       "      <th>duration (seconds)</th>\n",
       "      <th>hour</th>\n",
       "      <th>latitude</th>\n",
       "      <th>longitude</th>\n",
       "      <th>season</th>\n",
       "      <th>shape</th>\n",
       "      <th>state</th>\n",
       "    </tr>\n",
       "  </thead>\n",
       "  <tbody>\n",
       "    <tr>\n",
       "      <th>0</th>\n",
       "      <td>san marcos</td>\n",
       "      <td>This event took place in early fall around 194...</td>\n",
       "      <td>us</td>\n",
       "      <td>4/27/2004</td>\n",
       "      <td>1949-10-10 20:30:00</td>\n",
       "      <td>1940.0</td>\n",
       "      <td>2700</td>\n",
       "      <td>20.0</td>\n",
       "      <td>29.883056</td>\n",
       "      <td>-97.941111</td>\n",
       "      <td>Autumn</td>\n",
       "      <td>cylinder</td>\n",
       "      <td>tx</td>\n",
       "    </tr>\n",
       "    <tr>\n",
       "      <th>1</th>\n",
       "      <td>lackland afb</td>\n",
       "      <td>1949 Lackland AFB&amp;#44 TX.  Lights racing acros...</td>\n",
       "      <td>us</td>\n",
       "      <td>12/16/2005</td>\n",
       "      <td>1949-10-10 21:00:00</td>\n",
       "      <td>1940.0</td>\n",
       "      <td>7200</td>\n",
       "      <td>21.0</td>\n",
       "      <td>29.384210</td>\n",
       "      <td>-98.581082</td>\n",
       "      <td>Autumn</td>\n",
       "      <td>light</td>\n",
       "      <td>tx</td>\n",
       "    </tr>\n",
       "    <tr>\n",
       "      <th>2</th>\n",
       "      <td>chester (uk/england)</td>\n",
       "      <td>Green/Orange circular disc over Chester&amp;#44 En...</td>\n",
       "      <td>gb</td>\n",
       "      <td>1/21/2008</td>\n",
       "      <td>1955-10-10 17:00:00</td>\n",
       "      <td>1950.0</td>\n",
       "      <td>20</td>\n",
       "      <td>17.0</td>\n",
       "      <td>53.200000</td>\n",
       "      <td>-2.916667</td>\n",
       "      <td>Autumn</td>\n",
       "      <td>circle</td>\n",
       "      <td>NaN</td>\n",
       "    </tr>\n",
       "    <tr>\n",
       "      <th>3</th>\n",
       "      <td>edna</td>\n",
       "      <td>My older brother and twin sister were leaving ...</td>\n",
       "      <td>us</td>\n",
       "      <td>1/17/2004</td>\n",
       "      <td>1956-10-10 21:00:00</td>\n",
       "      <td>1950.0</td>\n",
       "      <td>20</td>\n",
       "      <td>21.0</td>\n",
       "      <td>28.978333</td>\n",
       "      <td>-96.645833</td>\n",
       "      <td>Autumn</td>\n",
       "      <td>circle</td>\n",
       "      <td>tx</td>\n",
       "    </tr>\n",
       "    <tr>\n",
       "      <th>4</th>\n",
       "      <td>kaneohe</td>\n",
       "      <td>AS a Marine 1st Lt. flying an FJ4B fighter/att...</td>\n",
       "      <td>us</td>\n",
       "      <td>1/22/2004</td>\n",
       "      <td>1960-10-10 20:00:00</td>\n",
       "      <td>1960.0</td>\n",
       "      <td>900</td>\n",
       "      <td>20.0</td>\n",
       "      <td>21.418056</td>\n",
       "      <td>-157.803611</td>\n",
       "      <td>Autumn</td>\n",
       "      <td>light</td>\n",
       "      <td>hi</td>\n",
       "    </tr>\n",
       "  </tbody>\n",
       "</table>\n",
       "</div>"
      ],
      "text/plain": [
       "                   city                                           comments  \\\n",
       "0            san marcos  This event took place in early fall around 194...   \n",
       "1          lackland afb  1949 Lackland AFB&#44 TX.  Lights racing acros...   \n",
       "2  chester (uk/england)  Green/Orange circular disc over Chester&#44 En...   \n",
       "3                  edna  My older brother and twin sister were leaving ...   \n",
       "4               kaneohe  AS a Marine 1st Lt. flying an FJ4B fighter/att...   \n",
       "\n",
       "  country date posted            datetime  decade duration (seconds)  hour  \\\n",
       "0      us   4/27/2004 1949-10-10 20:30:00  1940.0               2700  20.0   \n",
       "1      us  12/16/2005 1949-10-10 21:00:00  1940.0               7200  21.0   \n",
       "2      gb   1/21/2008 1955-10-10 17:00:00  1950.0                 20  17.0   \n",
       "3      us   1/17/2004 1956-10-10 21:00:00  1950.0                 20  21.0   \n",
       "4      us   1/22/2004 1960-10-10 20:00:00  1960.0                900  20.0   \n",
       "\n",
       "    latitude   longitude  season     shape state  \n",
       "0  29.883056  -97.941111  Autumn  cylinder    tx  \n",
       "1  29.384210  -98.581082  Autumn     light    tx  \n",
       "2  53.200000   -2.916667  Autumn    circle   NaN  \n",
       "3  28.978333  -96.645833  Autumn    circle    tx  \n",
       "4  21.418056 -157.803611  Autumn     light    hi  "
      ]
     },
     "execution_count": 79,
     "metadata": {},
     "output_type": "execute_result"
    }
   ],
   "source": [
    "ufos.head().apply(country, axis=1)"
   ]
  }
 ],
 "metadata": {
  "kernelspec": {
   "display_name": "Python 2",
   "language": "python",
   "name": "python2"
  },
  "language_info": {
   "codemirror_mode": {
    "name": "ipython",
    "version": 2
   },
   "file_extension": ".py",
   "mimetype": "text/x-python",
   "name": "python",
   "nbconvert_exporter": "python",
   "pygments_lexer": "ipython2",
   "version": "2.7.13"
  }
 },
 "nbformat": 4,
 "nbformat_minor": 2
}
